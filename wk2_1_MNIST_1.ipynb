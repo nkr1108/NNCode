{
 "cells": [
  {
   "cell_type": "markdown",
   "metadata": {
    "id": "wfWJSlkItKxw"
   },
   "source": [
    "# Using Neural Networks on MNIST Data "
   ]
  },
  {
   "cell_type": "code",
   "execution_count": 1,
   "metadata": {
    "id": "WpoxCD28AOAj"
   },
   "outputs": [
    {
     "name": "stderr",
     "output_type": "stream",
     "text": [
      "2023-04-27 10:19:33.811331: I tensorflow/core/platform/cpu_feature_guard.cc:182] This TensorFlow binary is optimized to use available CPU instructions in performance-critical operations.\n",
      "To enable the following instructions: AVX2 AVX512F AVX512_VNNI FMA, in other operations, rebuild TensorFlow with the appropriate compiler flags.\n"
     ]
    }
   ],
   "source": [
    "import pandas as pd\n",
    "import numpy as np\n",
    "import keras\n",
    "from tensorflow.keras.utils import to_categorical\n",
    "import warnings\n",
    "warnings.filterwarnings('ignore')\n",
    "from tensorflow.keras.callbacks import ModelCheckpoint, ReduceLROnPlateau"
   ]
  },
  {
   "cell_type": "markdown",
   "metadata": {
    "id": "tcMJzRU-tS9B"
   },
   "source": [
    "## Reading the data"
   ]
  },
  {
   "cell_type": "code",
   "execution_count": 2,
   "metadata": {
    "colab": {
     "base_uri": "https://localhost:8080/"
    },
    "executionInfo": {
     "elapsed": 4421,
     "status": "ok",
     "timestamp": 1682193851691,
     "user": {
      "displayName": "Nirmal Kumar",
      "userId": "02049434218915299882"
     },
     "user_tz": 300
    },
    "id": "GxJJQImBNTia",
    "outputId": "b1ef3a44-e6b6-4136-dc07-bfd31215b57e"
   },
   "outputs": [],
   "source": [
    "from keras.datasets import mnist\n",
    "(x_train, y_train), (x_test, y_test) = mnist.load_data()"
   ]
  },
  {
   "cell_type": "code",
   "execution_count": 3,
   "metadata": {
    "colab": {
     "base_uri": "https://localhost:8080/"
    },
    "executionInfo": {
     "elapsed": 96,
     "status": "ok",
     "timestamp": 1682193852251,
     "user": {
      "displayName": "Nirmal Kumar",
      "userId": "02049434218915299882"
     },
     "user_tz": 300
    },
    "id": "Q_4ngGpdNwpg",
    "outputId": "83e26ccd-bded-4a9e-9124-63cc97dce28a"
   },
   "outputs": [
    {
     "name": "stdout",
     "output_type": "stream",
     "text": [
      "(60000, 28, 28)\n",
      "(10000, 28, 28)\n",
      "(60000,)\n",
      "(10000,)\n"
     ]
    }
   ],
   "source": [
    "print(x_train.shape)\n",
    "print(x_test.shape)\n",
    "print(y_train.shape)\n",
    "print(y_test.shape)"
   ]
  },
  {
   "cell_type": "code",
   "execution_count": 4,
   "metadata": {
    "colab": {
     "base_uri": "https://localhost:8080/"
    },
    "executionInfo": {
     "elapsed": 105,
     "status": "ok",
     "timestamp": 1682193853664,
     "user": {
      "displayName": "Nirmal Kumar",
      "userId": "02049434218915299882"
     },
     "user_tz": 300
    },
    "id": "gBxa4e3-Xeex",
    "outputId": "c5e1f4be-446f-4804-b15d-01112a2a33d1"
   },
   "outputs": [
    {
     "data": {
      "text/plain": [
       "5"
      ]
     },
     "execution_count": 4,
     "metadata": {},
     "output_type": "execute_result"
    }
   ],
   "source": [
    "y_train[0]"
   ]
  },
  {
   "cell_type": "markdown",
   "metadata": {
    "id": "7yi_xTOEtYw0"
   },
   "source": [
    "## Visualizing images from our data"
   ]
  },
  {
   "cell_type": "code",
   "execution_count": 5,
   "metadata": {
    "colab": {
     "base_uri": "https://localhost:8080/",
     "height": 120
    },
    "executionInfo": {
     "elapsed": 2094,
     "status": "ok",
     "timestamp": 1682193859078,
     "user": {
      "displayName": "Nirmal Kumar",
      "userId": "02049434218915299882"
     },
     "user_tz": 300
    },
    "id": "4CP0IKIdOgs-",
    "outputId": "f1a23b55-9039-4f95-87fd-35ae51dc4199"
   },
   "outputs": [
    {
     "data": {
      "image/png": "[encoded data removed]",
      "text/plain": [
       "<Figure size 1000x100 with 10 Axes>"
      ]
     },
     "metadata": {},
     "output_type": "display_data"
    },
    {
     "name": "stdout",
     "output_type": "stream",
     "text": [
      "label for each of the above image: [5 0 4 1 9 2 1 3 1 4]\n"
     ]
    }
   ],
   "source": [
    "# visualizing the first 10 images in the dataset and their labels\n",
    "%matplotlib inline\n",
    "import matplotlib.pyplot as plt\n",
    "plt.figure(figsize=(10, 1))\n",
    "for i in range(10):\n",
    "    plt.subplot(1, 10, i+1)\n",
    "    plt.imshow(x_train[i], cmap=\"gray\")\n",
    "    plt.axis('off')\n",
    "plt.show()\n",
    "print('label for each of the above image: %s' % (y_train[0:10]))"
   ]
  },
  {
   "cell_type": "markdown",
   "metadata": {
    "id": "V8RfTsqEth4T"
   },
   "source": [
    "## Normalizing our train and test data"
   ]
  },
  {
   "cell_type": "code",
   "execution_count": 6,
   "metadata": {
    "colab": {
     "base_uri": "https://localhost:8080/"
    },
    "executionInfo": {
     "elapsed": 1085,
     "status": "ok",
     "timestamp": 1682193864276,
     "user": {
      "displayName": "Nirmal Kumar",
      "userId": "02049434218915299882"
     },
     "user_tz": 300
    },
    "id": "qzz6OTOdOzg_",
    "outputId": "61c3e025-7a27-411b-a5f9-78cc6529aafa"
   },
   "outputs": [
    {
     "name": "stdout",
     "output_type": "stream",
     "text": [
      "Training set (60000, 784) (60000,)\n",
      "Test set (10000, 784) (10000,)\n"
     ]
    }
   ],
   "source": [
    "# Flatten the images\n",
    "image_vector_size = 28*28\n",
    "x_train = x_train.reshape(x_train.shape[0], image_vector_size)\n",
    "x_test = x_test.reshape(x_test.shape[0], image_vector_size)\n",
    "\n",
    "# # normalize inputs from 0-255 to 0-1\n",
    "x_train = x_train / 255.0\n",
    "x_test = x_test / 255.0\n",
    "\n",
    "print('Training set', x_train.shape, y_train.shape)\n",
    "print('Test set', x_test.shape, y_test.shape)"
   ]
  },
  {
   "cell_type": "markdown",
   "metadata": {
    "id": "u80k7vtPtpKc"
   },
   "source": [
    "## One-Hot Encoding on the target variables"
   ]
  },
  {
   "cell_type": "code",
   "execution_count": 7,
   "metadata": {
    "id": "4EzccWfUPl_l"
   },
   "outputs": [],
   "source": [
    "# Convert to \"one-hot\" vectors using the to_categorical function\n",
    "num_classes = 10\n",
    "y_train = to_categorical(y_train, num_classes)\n",
    "y_test_cat=to_categorical(y_test,num_classes)"
   ]
  },
  {
   "cell_type": "code",
   "execution_count": 8,
   "metadata": {
    "colab": {
     "base_uri": "https://localhost:8080/"
    },
    "executionInfo": {
     "elapsed": 93,
     "status": "ok",
     "timestamp": 1682193868456,
     "user": {
      "displayName": "Nirmal Kumar",
      "userId": "02049434218915299882"
     },
     "user_tz": 300
    },
    "id": "Ouv10gYwZFfR",
    "outputId": "eb9a3ea4-47bb-4ab8-ee98-6d87af4c623e"
   },
   "outputs": [
    {
     "name": "stdout",
     "output_type": "stream",
     "text": [
      "First 5 training lables as one-hot encoded vectors:\n",
      " [[0. 0. 0. 0. 0. 1. 0. 0. 0. 0.]\n",
      " [1. 0. 0. 0. 0. 0. 0. 0. 0. 0.]\n",
      " [0. 0. 0. 0. 1. 0. 0. 0. 0. 0.]\n",
      " [0. 1. 0. 0. 0. 0. 0. 0. 0. 0.]\n",
      " [0. 0. 0. 0. 0. 0. 0. 0. 0. 1.]]\n"
     ]
    }
   ],
   "source": [
    "print(\"First 5 training lables as one-hot encoded vectors:\\n\", y_train[:5])"
   ]
  },
  {
   "cell_type": "markdown",
   "metadata": {
    "id": "la0FEOcCttt9"
   },
   "source": [
    "## Defining the Sequential Model"
   ]
  },
  {
   "cell_type": "code",
   "execution_count": 9,
   "metadata": {
    "id": "_LvEzPxfQhVj"
   },
   "outputs": [],
   "source": [
    "# define model\n",
    "\n",
    "from tensorflow.keras import losses\n",
    "from tensorflow.keras import optimizers\n",
    "from tensorflow.keras import Sequential\n",
    "from tensorflow.keras.layers import Dense\n",
    "\n",
    "image_size=28*28\n",
    "\n",
    "# create model\n",
    "model = Sequential()  \n",
    "\n",
    "model.add(Dense(256, activation='relu',kernel_initializer='he_uniform',input_shape=(image_size,))) ###Multiple Dense units with Relu activation\n",
    "model.add(Dense(64, activation='relu',kernel_initializer='he_uniform'))\n",
    "model.add(Dense(64, activation='relu',kernel_initializer='he_uniform'))\n",
    "model.add(Dense(32, activation='relu',kernel_initializer='he_uniform'))\n",
    "\n",
    "model.add(Dense(num_classes, activation='softmax')) ### For multiclass classification Softmax is used "
   ]
  },
  {
   "cell_type": "code",
   "execution_count": 10,
   "metadata": {
    "id": "P3751ptOSe3r"
   },
   "outputs": [],
   "source": [
    "# Compile model\n",
    "#RMS_prop=optimizers.RMSprop()   ## we can similarly use different optimizers like RMSprop, Adagrad and SGD \n",
    "adam = optimizers.Adam(learning_rate=1e-3)\n",
    "model.compile(loss=losses.categorical_crossentropy, optimizer=adam, metrics=['accuracy']) ### Loss function = Categorical cross entropy"
   ]
  },
  {
   "cell_type": "code",
   "execution_count": 11,
   "metadata": {
    "colab": {
     "base_uri": "https://localhost:8080/"
    },
    "executionInfo": {
     "elapsed": 391,
     "status": "ok",
     "timestamp": 1682193893816,
     "user": {
      "displayName": "Nirmal Kumar",
      "userId": "02049434218915299882"
     },
     "user_tz": 300
    },
    "id": "qMTLLs33S446",
    "outputId": "16796a60-401a-48b1-9df0-8e8055a839e2"
   },
   "outputs": [
    {
     "name": "stdout",
     "output_type": "stream",
     "text": [
      "Model: \"sequential\"\n",
      "_________________________________________________________________\n",
      " Layer (type)                Output Shape              Param #   \n",
      "=================================================================\n",
      " dense (Dense)               (None, 256)               200960    \n",
      "                                                                 \n",
      " dense_1 (Dense)             (None, 64)                16448     \n",
      "                                                                 \n",
      " dense_2 (Dense)             (None, 64)                4160      \n",
      "                                                                 \n",
      " dense_3 (Dense)             (None, 32)                2080      \n",
      "                                                                 \n",
      " dense_4 (Dense)             (None, 10)                330       \n",
      "                                                                 \n",
      "=================================================================\n",
      "Total params: 223,978\n",
      "Trainable params: 223,978\n",
      "Non-trainable params: 0\n",
      "_________________________________________________________________\n"
     ]
    }
   ],
   "source": [
    "## Looking into our base model\n",
    "model.summary()"
   ]
  },
  {
   "cell_type": "code",
   "execution_count": 12,
   "metadata": {
    "id": "WvZ9dJ8M4D9U"
   },
   "outputs": [],
   "source": [
    "checkpoint = ModelCheckpoint(\"model_weights.h5\",monitor='val_accuracy',\n",
    "                            save_weights_only=True, mode='max',verbose=1)\n",
    "reduce_lr = ReduceLROnPlateau(monitor='val_loss',factor=0.1,patience=2,min_lr=0.00001,model='auto')\n",
    "\n",
    "callbacks = [checkpoint,reduce_lr]"
   ]
  },
  {
   "cell_type": "code",
   "execution_count": 13,
   "metadata": {
    "colab": {
     "base_uri": "https://localhost:8080/"
    },
    "executionInfo": {
     "elapsed": 42812,
     "status": "ok",
     "timestamp": 1682193942223,
     "user": {
      "displayName": "Nirmal Kumar",
      "userId": "02049434218915299882"
     },
     "user_tz": 300
    },
    "id": "yLVwW55hSa67",
    "outputId": "dbe4194f-35ee-40ab-f0a8-9efd30de4e76"
   },
   "outputs": [
    {
     "name": "stdout",
     "output_type": "stream",
     "text": [
      "Epoch 1/10\n",
      "\n",
      "Epoch 1: saving model to model_weights.h5\n",
      "375/375 - 2s - loss: 0.3378 - accuracy: 0.9009 - val_loss: 0.1525 - val_accuracy: 0.9569 - lr: 0.0010 - 2s/epoch - 6ms/step\n",
      "Epoch 2/10\n",
      "\n",
      "Epoch 2: saving model to model_weights.h5\n",
      "375/375 - 1s - loss: 0.1211 - accuracy: 0.9636 - val_loss: 0.1120 - val_accuracy: 0.9662 - lr: 0.0010 - 1s/epoch - 3ms/step\n",
      "Epoch 3/10\n",
      "\n",
      "Epoch 3: saving model to model_weights.h5\n",
      "375/375 - 1s - loss: 0.0828 - accuracy: 0.9744 - val_loss: 0.0975 - val_accuracy: 0.9698 - lr: 0.0010 - 1s/epoch - 3ms/step\n",
      "Epoch 4/10\n",
      "\n",
      "Epoch 4: saving model to model_weights.h5\n",
      "375/375 - 1s - loss: 0.0594 - accuracy: 0.9822 - val_loss: 0.0995 - val_accuracy: 0.9712 - lr: 0.0010 - 1s/epoch - 3ms/step\n",
      "Epoch 5/10\n",
      "\n",
      "Epoch 5: saving model to model_weights.h5\n",
      "375/375 - 1s - loss: 0.0460 - accuracy: 0.9855 - val_loss: 0.0964 - val_accuracy: 0.9736 - lr: 0.0010 - 1s/epoch - 3ms/step\n",
      "Epoch 6/10\n",
      "\n",
      "Epoch 6: saving model to model_weights.h5\n",
      "375/375 - 1s - loss: 0.0360 - accuracy: 0.9889 - val_loss: 0.0904 - val_accuracy: 0.9737 - lr: 0.0010 - 1s/epoch - 3ms/step\n",
      "Epoch 7/10\n",
      "\n",
      "Epoch 7: saving model to model_weights.h5\n",
      "375/375 - 1s - loss: 0.0283 - accuracy: 0.9906 - val_loss: 0.1086 - val_accuracy: 0.9721 - lr: 0.0010 - 1s/epoch - 4ms/step\n",
      "Epoch 8/10\n",
      "\n",
      "Epoch 8: saving model to model_weights.h5\n",
      "375/375 - 1s - loss: 0.0255 - accuracy: 0.9921 - val_loss: 0.0893 - val_accuracy: 0.9756 - lr: 0.0010 - 1s/epoch - 3ms/step\n",
      "Epoch 9/10\n",
      "\n",
      "Epoch 9: saving model to model_weights.h5\n",
      "375/375 - 1s - loss: 0.0189 - accuracy: 0.9941 - val_loss: 0.1240 - val_accuracy: 0.9693 - lr: 0.0010 - 1s/epoch - 4ms/step\n",
      "Epoch 10/10\n",
      "\n",
      "Epoch 10: saving model to model_weights.h5\n",
      "375/375 - 1s - loss: 0.0211 - accuracy: 0.9933 - val_loss: 0.1125 - val_accuracy: 0.9728 - lr: 0.0010 - 1s/epoch - 3ms/step\n"
     ]
    }
   ],
   "source": [
    "# Fit the model\n",
    "history=model.fit(x_train, y_train, validation_split=0.2, epochs=10, batch_size=128, verbose=2,callbacks=callbacks)"
   ]
  },
  {
   "cell_type": "code",
   "execution_count": 14,
   "metadata": {
    "colab": {
     "base_uri": "https://localhost:8080/"
    },
    "executionInfo": {
     "elapsed": 1239,
     "status": "ok",
     "timestamp": 1682193982526,
     "user": {
      "displayName": "Nirmal Kumar",
      "userId": "02049434218915299882"
     },
     "user_tz": 300
    },
    "id": "B8GLais7XBDn",
    "outputId": "f423e4f1-9980-4ee0-c6dd-aed1c2122abf"
   },
   "outputs": [
    {
     "name": "stdout",
     "output_type": "stream",
     "text": [
      "313/313 [==============================] - 0s 1ms/step\n"
     ]
    }
   ],
   "source": [
    "# predicting the model on test data\n",
    "y_pred=model.predict(x_test)\n"
   ]
  },
  {
   "cell_type": "code",
   "execution_count": 15,
   "metadata": {
    "colab": {
     "base_uri": "https://localhost:8080/"
    },
    "executionInfo": {
     "elapsed": 102,
     "status": "ok",
     "timestamp": 1682193986957,
     "user": {
      "displayName": "Nirmal Kumar",
      "userId": "02049434218915299882"
     },
     "user_tz": 300
    },
    "id": "K01XP9CNaxyY",
    "outputId": "80b77d50-920d-4dd6-979c-6e1cf1a1c3ba"
   },
   "outputs": [
    {
     "data": {
      "text/plain": [
       "array([1.2447870e-08, 8.8569573e-07, 6.2493240e-07, 1.9584550e-05,\n",
       "       3.9044676e-10, 5.8524554e-09, 4.9903246e-12, 9.9997824e-01,\n",
       "       1.2681701e-07, 5.8456897e-07], dtype=float32)"
      ]
     },
     "execution_count": 15,
     "metadata": {},
     "output_type": "execute_result"
    }
   ],
   "source": [
    "y_pred[0]"
   ]
  },
  {
   "cell_type": "code",
   "execution_count": 16,
   "metadata": {
    "id": "5D5FLvn3X_VN"
   },
   "outputs": [],
   "source": [
    "# As our outputs are probabilities so we will try to get the output class from these probablities by getting the maximum value\n",
    "y_pred_final=[]\n",
    "for i in y_pred:\n",
    "  y_pred_final.append(np.argmax(i))"
   ]
  },
  {
   "cell_type": "code",
   "execution_count": 17,
   "metadata": {
    "colab": {
     "base_uri": "https://localhost:8080/"
    },
    "executionInfo": {
     "elapsed": 95,
     "status": "ok",
     "timestamp": 1682193991546,
     "user": {
      "displayName": "Nirmal Kumar",
      "userId": "02049434218915299882"
     },
     "user_tz": 300
    },
    "id": "SM0tKCI9bByz",
    "outputId": "d3785c59-24bd-45ae-9c12-ad195acfff3b"
   },
   "outputs": [
    {
     "data": {
      "text/plain": [
       "7"
      ]
     },
     "execution_count": 17,
     "metadata": {},
     "output_type": "execute_result"
    }
   ],
   "source": [
    "y_pred_final[0]\n"
   ]
  },
  {
   "cell_type": "markdown",
   "metadata": {
    "id": "dQ__UZypubY5"
   },
   "source": [
    "## Generating the Classification Report"
   ]
  },
  {
   "cell_type": "code",
   "execution_count": 18,
   "metadata": {
    "colab": {
     "base_uri": "https://localhost:8080/"
    },
    "executionInfo": {
     "elapsed": 1578,
     "status": "ok",
     "timestamp": 1682194001599,
     "user": {
      "displayName": "Nirmal Kumar",
      "userId": "02049434218915299882"
     },
     "user_tz": 300
    },
    "id": "G8WR5thXW1er",
    "outputId": "0a7ac2da-0c00-4f39-d91d-6df683506edf"
   },
   "outputs": [
    {
     "name": "stdout",
     "output_type": "stream",
     "text": [
      "              precision    recall  f1-score   support\n",
      "\n",
      "           0       0.98      0.99      0.99       980\n",
      "           1       0.99      0.99      0.99      1135\n",
      "           2       0.97      0.98      0.97      1032\n",
      "           3       0.94      0.98      0.96      1010\n",
      "           4       0.98      0.95      0.97       982\n",
      "           5       0.98      0.95      0.96       892\n",
      "           6       0.98      0.97      0.98       958\n",
      "           7       0.98      0.98      0.98      1028\n",
      "           8       0.97      0.96      0.96       974\n",
      "           9       0.95      0.98      0.97      1009\n",
      "\n",
      "    accuracy                           0.97     10000\n",
      "   macro avg       0.97      0.97      0.97     10000\n",
      "weighted avg       0.97      0.97      0.97     10000\n",
      "\n"
     ]
    }
   ],
   "source": [
    "from sklearn.metrics import classification_report\n",
    "print(classification_report(y_test,y_pred_final))"
   ]
  },
  {
   "cell_type": "markdown",
   "metadata": {
    "id": "CpRdFoieupqh"
   },
   "source": [
    "## Confusion Matrix"
   ]
  },
  {
   "cell_type": "code",
   "execution_count": 19,
   "metadata": {
    "colab": {
     "base_uri": "https://localhost:8080/",
     "height": 619
    },
    "executionInfo": {
     "elapsed": 729,
     "status": "ok",
     "timestamp": 1682194005365,
     "user": {
      "displayName": "Nirmal Kumar",
      "userId": "02049434218915299882"
     },
     "user_tz": 300
    },
    "id": "6VdYmPDgZdL8",
    "outputId": "bb8a35db-f56f-4b1d-95dd-1ab9ae86ff8e"
   },
   "outputs": [
    {
     "data": {
      "image/png": "[encoded data removed]",
      "text/plain": [
       "<Figure size 1000x700 with 2 Axes>"
      ]
     },
     "metadata": {},
     "output_type": "display_data"
    }
   ],
   "source": [
    "from sklearn.metrics import confusion_matrix\n",
    "import seaborn as sns\n",
    "\n",
    "cm=confusion_matrix(y_test,y_pred_final)\n",
    "\n",
    "plt.figure(figsize=(10,7))\n",
    "sns.heatmap(cm,annot=True,fmt='d')\n",
    "plt.xlabel('Predicted')\n",
    "plt.ylabel('Truth')\n",
    "plt.show()"
   ]
  },
  {
   "cell_type": "markdown",
   "metadata": {
    "id": "GLhh3nxauyht"
   },
   "source": [
    "## Misclassified images"
   ]
  },
  {
   "cell_type": "code",
   "execution_count": 20,
   "metadata": {
    "colab": {
     "base_uri": "https://localhost:8080/"
    },
    "executionInfo": {
     "elapsed": 95,
     "status": "ok",
     "timestamp": 1682194008267,
     "user": {
      "displayName": "Nirmal Kumar",
      "userId": "02049434218915299882"
     },
     "user_tz": 300
    },
    "id": "7FV3HGR7bMn9",
    "outputId": "09daa196-3fcd-4c1d-839f-f763430b48a1"
   },
   "outputs": [
    {
     "name": "stdout",
     "output_type": "stream",
     "text": [
      "[115, 149, 151, 241, 247, 321, 340, 381, 412, 445, 447, 495, 582, 619, 659, 674, 684, 707, 720, 740, 760, 791, 846, 900, 947, 951, 956, 965, 1003, 1014, 1039, 1044, 1112, 1156, 1178, 1182, 1224, 1226, 1242, 1247, 1270, 1289, 1299, 1319, 1328, 1393, 1395, 1433, 1441, 1494, 1530, 1549, 1609, 1621, 1626, 1634, 1678, 1681, 1709, 1751, 1754, 1813, 1828, 1865, 1878, 1901, 1909, 1941, 1954, 1955, 1984, 2004, 2018, 2035, 2043, 2053, 2063, 2098, 2109, 2125, 2130, 2135, 2162, 2224, 2293, 2369, 2387, 2447, 2488, 2526, 2559, 2597, 2604, 2630, 2648, 2654, 2743, 2810, 2894, 2921, 2927, 2939, 2953, 2995, 3030, 3062, 3073, 3117, 3289, 3405, 3429, 3441, 3503, 3520, 3533, 3558, 3565, 3567, 3597, 3629, 3688, 3718, 3726, 3751, 3757, 3776, 3808, 3811, 3818, 3838, 3893, 3906, 3941, 3951, 3968, 3985, 4017, 4065, 4075, 4163, 4176, 4201, 4207, 4211, 4224, 4248, 4265, 4271, 4289, 4294, 4300, 4359, 4360, 4419, 4433, 4437, 4497, 4514, 4536, 4547, 4548, 4567, 4619, 4671, 4731, 4807, 4814, 4823, 4839, 4860, 4876, 4880, 4890, 4943, 4966, 5068, 5086, 5138, 5140, 5199, 5228, 5642, 5654, 5676, 5734, 5835, 5874, 5936, 5937, 5955, 5957, 5972, 5973, 5976, 5981, 5982, 5985, 5997, 6011, 6023, 6024, 6028, 6035, 6043, 6053, 6059, 6101, 6166, 6421, 6555, 6559, 6560, 6572, 6597, 6641, 6651, 6735, 6755, 6783, 6847, 6926, 6997, 7216, 7481, 7619, 7800, 7823, 7899, 7921, 8094, 8105, 8128, 8160, 8255, 8311, 8325, 8520, 8527, 9009, 9015, 9019, 9024, 9211, 9587, 9634, 9664, 9669, 9679, 9712, 9729, 9735, 9745, 9755, 9764, 9768, 9770, 9779, 9792, 9839, 9858, 9904, 9922, 9982]\n",
      "263\n"
     ]
    }
   ],
   "source": [
    "index = 0\n",
    "misclassified_images = []\n",
    "for label, predict in zip(y_test, y_pred_final):\n",
    "    if label != predict: \n",
    "        misclassified_images.append(index)\n",
    "    index +=1\n",
    "print(misclassified_images)\n",
    "print(len(misclassified_images))"
   ]
  },
  {
   "cell_type": "markdown",
   "metadata": {
    "id": "5j1U2Js1u4OB"
   },
   "source": [
    "## Predicting the output"
   ]
  },
  {
   "cell_type": "code",
   "execution_count": 21,
   "metadata": {
    "colab": {
     "base_uri": "https://localhost:8080/",
     "height": 519
    },
    "executionInfo": {
     "elapsed": 414,
     "status": "ok",
     "timestamp": 1682194012185,
     "user": {
      "displayName": "Nirmal Kumar",
      "userId": "02049434218915299882"
     },
     "user_tz": 300
    },
    "id": "T6fN12oQUIfC",
    "outputId": "75756b84-06a3-47b1-9994-46c47a533715"
   },
   "outputs": [
    {
     "name": "stdout",
     "output_type": "stream",
     "text": [
      "1/1 [==============================] - 0s 18ms/step\n",
      "Was predicted  0\n",
      "Was labeled  6\n",
      "Predicted Probabilities:  [[8.4841102e-01 1.3812677e-07 1.0485262e-06 6.1381034e-09 6.1065542e-08\n",
      "  2.4887597e-06 1.5157390e-01 1.1282883e-05 1.1805469e-08 9.1223273e-10]]\n"
     ]
    },
    {
     "data": {
      "image/png": "[encoded data removed]",
      "text/plain": [
       "<Figure size 640x480 with 1 Axes>"
      ]
     },
     "metadata": {},
     "output_type": "display_data"
    }
   ],
   "source": [
    "image_index = 445\n",
    "plt.imshow(x_test[image_index].reshape(28, 28),cmap='Greys')\n",
    "pred = model.predict(x_test[image_index].reshape(-1, 784))\n",
    "print(\"Was predicted \",pred.argmax())\n",
    "print(\"Was labeled \",y_test[image_index])\n",
    "print(\"Predicted Probabilities: \",pred)"
   ]
  },
  {
   "cell_type": "markdown",
   "metadata": {
    "id": "paaC3Etwu_EI"
   },
   "source": [
    "## Accuracy Curve"
   ]
  },
  {
   "cell_type": "code",
   "execution_count": 22,
   "metadata": {
    "colab": {
     "base_uri": "https://localhost:8080/",
     "height": 472
    },
    "executionInfo": {
     "elapsed": 1910,
     "status": "ok",
     "timestamp": 1682194016967,
     "user": {
      "displayName": "Nirmal Kumar",
      "userId": "02049434218915299882"
     },
     "user_tz": 300
    },
    "id": "WsYXFGdydw-i",
    "outputId": "5a6810fa-b00a-4a51-a2e5-b3635a86aa8d"
   },
   "outputs": [
    {
     "data": {
      "image/png": "[encoded data removed]",
      "text/plain": [
       "<Figure size 640x480 with 1 Axes>"
      ]
     },
     "metadata": {},
     "output_type": "display_data"
    }
   ],
   "source": [
    "loss, accuracy  = model.evaluate(x_test, y_test_cat, verbose=False)\n",
    "    \n",
    "plt.plot(history.history['accuracy'])\n",
    "plt.plot(history.history['val_accuracy'])\n",
    "plt.title('model accuracy')\n",
    "plt.ylabel('accuracy')\n",
    "plt.xlabel('epoch')\n",
    "plt.legend(['training', 'validation'], loc='best')\n",
    "plt.show()"
   ]
  },
  {
   "cell_type": "markdown",
   "metadata": {
    "id": "-JD472gVvnuf"
   },
   "source": [
    "## Model 2"
   ]
  },
  {
   "cell_type": "markdown",
   "metadata": {
    "id": "TvAuaFdyvQi-"
   },
   "source": [
    "In our first model we have implemented a simple neural network on MNIST data.\n",
    "\n",
    "Now we will try to observe how Batch Normalization and Dropout can be used in our model. "
   ]
  },
  {
   "cell_type": "markdown",
   "metadata": {
    "id": "DMqlwY6HfVzU"
   },
   "source": [
    "## Using Batch Normalization and Dropout"
   ]
  },
  {
   "cell_type": "code",
   "execution_count": 23,
   "metadata": {
    "id": "O4a6ERT6ePC1"
   },
   "outputs": [],
   "source": [
    "# define model\n",
    "\n",
    "from tensorflow.keras import losses\n",
    "from tensorflow.keras import optimizers\n",
    "from keras import Sequential\n",
    "from tensorflow.keras.layers import Dense\n",
    "from tensorflow.keras.layers import BatchNormalization\n",
    "from tensorflow.keras.layers import Dropout\n",
    "\n",
    "image_size=28*28\n",
    "\n",
    "# create model\n",
    "model_1 = Sequential()  \n",
    "\n",
    "model_1.add(Dense(256, activation='relu',kernel_initializer='he_uniform',input_shape=(image_size,))) ###Multiple Dense units with Relu activation\n",
    "model_1.add(Dense(64, activation='relu',kernel_initializer='he_uniform'))\n",
    "model_1.add(Dense(64, activation='relu',kernel_initializer='he_uniform'))## Weight Initialization\n",
    "model_1.add(Dense(32, activation='relu',kernel_initializer='he_uniform'))\n",
    "model_1.add(Dropout(0.5))\n",
    "model_1.add(BatchNormalization())\n",
    "model_1.add(Dense(num_classes, activation='softmax')) ### For multiclass classification Softmax is used "
   ]
  },
  {
   "cell_type": "code",
   "execution_count": 24,
   "metadata": {
    "id": "XF6qWlRngU6S"
   },
   "outputs": [],
   "source": [
    "# Compile model\n",
    "adam = optimizers.Adam(learning_rate=1e-3)\n",
    "model_1.compile(loss=losses.categorical_crossentropy, optimizer=adam, metrics=['accuracy']) ### Loss function = Categorical cross entropy"
   ]
  },
  {
   "cell_type": "code",
   "execution_count": 25,
   "metadata": {
    "colab": {
     "base_uri": "https://localhost:8080/"
    },
    "executionInfo": {
     "elapsed": 319,
     "status": "ok",
     "timestamp": 1682194055632,
     "user": {
      "displayName": "Nirmal Kumar",
      "userId": "02049434218915299882"
     },
     "user_tz": 300
    },
    "id": "VdYCjKwRg_7w",
    "outputId": "3f0fcbc0-65c1-45a6-f4a7-b91e962aa28e"
   },
   "outputs": [
    {
     "name": "stdout",
     "output_type": "stream",
     "text": [
      "Model: \"sequential_1\"\n",
      "_________________________________________________________________\n",
      " Layer (type)                Output Shape              Param #   \n",
      "=================================================================\n",
      " dense_5 (Dense)             (None, 256)               200960    \n",
      "                                                                 \n",
      " dense_6 (Dense)             (None, 64)                16448     \n",
      "                                                                 \n",
      " dense_7 (Dense)             (None, 64)                4160      \n",
      "                                                                 \n",
      " dense_8 (Dense)             (None, 32)                2080      \n",
      "                                                                 \n",
      " dropout (Dropout)           (None, 32)                0         \n",
      "                                                                 \n",
      " batch_normalization (BatchN  (None, 32)               128       \n",
      " ormalization)                                                   \n",
      "                                                                 \n",
      " dense_9 (Dense)             (None, 10)                330       \n",
      "                                                                 \n",
      "=================================================================\n",
      "Total params: 224,106\n",
      "Trainable params: 224,042\n",
      "Non-trainable params: 64\n",
      "_________________________________________________________________\n"
     ]
    }
   ],
   "source": [
    "model_1.summary()"
   ]
  },
  {
   "cell_type": "code",
   "execution_count": 26,
   "metadata": {
    "id": "3ocU490l3pLb"
   },
   "outputs": [],
   "source": [
    "checkpoint = ModelCheckpoint(\"model_weights_1.h5\",monitor='val_accuracy',\n",
    "                            save_weights_only=True, model='max',verbose=1)\n",
    "reduce_lr = ReduceLROnPlateau(monitor='val_loss',factor=0.1,patience=2,min_lr=0.00001,model='auto')\n",
    "\n",
    "callbacks = [checkpoint,reduce_lr]"
   ]
  },
  {
   "cell_type": "code",
   "execution_count": 27,
   "metadata": {
    "colab": {
     "base_uri": "https://localhost:8080/"
    },
    "executionInfo": {
     "elapsed": 44337,
     "status": "ok",
     "timestamp": 1682194103106,
     "user": {
      "displayName": "Nirmal Kumar",
      "userId": "02049434218915299882"
     },
     "user_tz": 300
    },
    "id": "N3Ttpoa2hFJv",
    "outputId": "e9000c31-1010-43be-ada3-e8dca791090c"
   },
   "outputs": [
    {
     "name": "stdout",
     "output_type": "stream",
     "text": [
      "Epoch 1/10\n",
      "\n",
      "Epoch 1: saving model to model_weights_1.h5\n",
      "375/375 - 2s - loss: 0.7679 - accuracy: 0.7882 - val_loss: 0.2034 - val_accuracy: 0.9480 - lr: 0.0010 - 2s/epoch - 7ms/step\n",
      "Epoch 2/10\n",
      "\n",
      "Epoch 2: saving model to model_weights_1.h5\n",
      "375/375 - 1s - loss: 0.3110 - accuracy: 0.9232 - val_loss: 0.1339 - val_accuracy: 0.9624 - lr: 0.0010 - 1s/epoch - 3ms/step\n",
      "Epoch 3/10\n",
      "\n",
      "Epoch 3: saving model to model_weights_1.h5\n",
      "375/375 - 1s - loss: 0.2090 - accuracy: 0.9466 - val_loss: 0.1195 - val_accuracy: 0.9661 - lr: 0.0010 - 1s/epoch - 4ms/step\n",
      "Epoch 4/10\n",
      "\n",
      "Epoch 4: saving model to model_weights_1.h5\n",
      "375/375 - 2s - loss: 0.1670 - accuracy: 0.9571 - val_loss: 0.0985 - val_accuracy: 0.9726 - lr: 0.0010 - 2s/epoch - 4ms/step\n",
      "Epoch 5/10\n",
      "\n",
      "Epoch 5: saving model to model_weights_1.h5\n",
      "375/375 - 1s - loss: 0.1384 - accuracy: 0.9631 - val_loss: 0.1076 - val_accuracy: 0.9728 - lr: 0.0010 - 1s/epoch - 4ms/step\n",
      "Epoch 6/10\n",
      "\n",
      "Epoch 6: saving model to model_weights_1.h5\n",
      "375/375 - 1s - loss: 0.1130 - accuracy: 0.9706 - val_loss: 0.0960 - val_accuracy: 0.9767 - lr: 0.0010 - 1s/epoch - 4ms/step\n",
      "Epoch 7/10\n",
      "\n",
      "Epoch 7: saving model to model_weights_1.h5\n",
      "375/375 - 2s - loss: 0.1038 - accuracy: 0.9719 - val_loss: 0.0982 - val_accuracy: 0.9758 - lr: 0.0010 - 2s/epoch - 4ms/step\n",
      "Epoch 8/10\n",
      "\n",
      "Epoch 8: saving model to model_weights_1.h5\n",
      "375/375 - 1s - loss: 0.0873 - accuracy: 0.9771 - val_loss: 0.1096 - val_accuracy: 0.9750 - lr: 0.0010 - 1s/epoch - 4ms/step\n",
      "Epoch 9/10\n",
      "\n",
      "Epoch 9: saving model to model_weights_1.h5\n",
      "375/375 - 1s - loss: 0.0671 - accuracy: 0.9820 - val_loss: 0.0923 - val_accuracy: 0.9786 - lr: 1.0000e-04 - 1s/epoch - 4ms/step\n",
      "Epoch 10/10\n",
      "\n",
      "Epoch 10: saving model to model_weights_1.h5\n",
      "375/375 - 1s - loss: 0.0586 - accuracy: 0.9842 - val_loss: 0.0954 - val_accuracy: 0.9792 - lr: 1.0000e-04 - 1s/epoch - 4ms/step\n"
     ]
    }
   ],
   "source": [
    "# Fit the model\n",
    "history=model_1.fit(x_train, y_train, validation_split=0.2, epochs=10, batch_size=128, verbose=2, callbacks=callbacks)"
   ]
  },
  {
   "cell_type": "code",
   "execution_count": 28,
   "metadata": {
    "colab": {
     "base_uri": "https://localhost:8080/"
    },
    "executionInfo": {
     "elapsed": 1021,
     "status": "ok",
     "timestamp": 1682194104110,
     "user": {
      "displayName": "Nirmal Kumar",
      "userId": "02049434218915299882"
     },
     "user_tz": 300
    },
    "id": "lanZzwW-hKcf",
    "outputId": "28dbf668-b86d-4432-d47c-79c3fea7d7fc"
   },
   "outputs": [
    {
     "name": "stdout",
     "output_type": "stream",
     "text": [
      "313/313 [==============================] - 0s 1ms/step\n"
     ]
    }
   ],
   "source": [
    "y_pred_1=model_1.predict(x_test)"
   ]
  },
  {
   "cell_type": "code",
   "execution_count": 29,
   "metadata": {
    "id": "AEgEtGykhVfR"
   },
   "outputs": [],
   "source": [
    "y_pred_final_1=[]\n",
    "for i in y_pred_1:\n",
    "  y_pred_final_1.append(np.argmax(i))"
   ]
  },
  {
   "cell_type": "code",
   "execution_count": 30,
   "metadata": {
    "colab": {
     "base_uri": "https://localhost:8080/"
    },
    "executionInfo": {
     "elapsed": 74,
     "status": "ok",
     "timestamp": 1682194107892,
     "user": {
      "displayName": "Nirmal Kumar",
      "userId": "02049434218915299882"
     },
     "user_tz": 300
    },
    "id": "vGZO0z-cheCi",
    "outputId": "3bde3428-6728-4f5d-dbc3-79ebc8e88b07"
   },
   "outputs": [
    {
     "name": "stdout",
     "output_type": "stream",
     "text": [
      "              precision    recall  f1-score   support\n",
      "\n",
      "           0       0.98      0.99      0.99       980\n",
      "           1       0.99      0.99      0.99      1135\n",
      "           2       0.98      0.98      0.98      1032\n",
      "           3       0.97      0.98      0.97      1010\n",
      "           4       0.99      0.98      0.98       982\n",
      "           5       0.98      0.98      0.98       892\n",
      "           6       0.99      0.98      0.99       958\n",
      "           7       0.98      0.98      0.98      1028\n",
      "           8       0.97      0.97      0.97       974\n",
      "           9       0.98      0.97      0.97      1009\n",
      "\n",
      "    accuracy                           0.98     10000\n",
      "   macro avg       0.98      0.98      0.98     10000\n",
      "weighted avg       0.98      0.98      0.98     10000\n",
      "\n"
     ]
    }
   ],
   "source": [
    "from sklearn.metrics import classification_report\n",
    "print(classification_report(y_test,y_pred_final_1))"
   ]
  },
  {
   "cell_type": "code",
   "execution_count": 31,
   "metadata": {
    "id": "u9QpcoZzhkP3"
   },
   "outputs": [],
   "source": [
    "from sklearn.metrics import confusion_matrix\n",
    "cm_1=confusion_matrix(y_test,y_pred_final_1)"
   ]
  },
  {
   "cell_type": "code",
   "execution_count": 32,
   "metadata": {
    "colab": {
     "base_uri": "https://localhost:8080/",
     "height": 637
    },
    "executionInfo": {
     "elapsed": 699,
     "status": "ok",
     "timestamp": 1682194113820,
     "user": {
      "displayName": "Nirmal Kumar",
      "userId": "02049434218915299882"
     },
     "user_tz": 300
    },
    "id": "CcM8g7kMhp8N",
    "outputId": "3353a430-ba92-4a84-d886-d91aab553937"
   },
   "outputs": [
    {
     "data": {
      "text/plain": [
       "Text(95.72222222222221, 0.5, 'Truth')"
      ]
     },
     "execution_count": 32,
     "metadata": {},
     "output_type": "execute_result"
    },
    {
     "data": {
      "image/png": "[encoded data removed]",
      "text/plain": [
       "<Figure size 1000x700 with 2 Axes>"
      ]
     },
     "metadata": {},
     "output_type": "display_data"
    }
   ],
   "source": [
    "plt.figure(figsize=(10,7))\n",
    "sns.heatmap(cm_1,annot=True,fmt='d')\n",
    "plt.xlabel('Predicted')\n",
    "plt.ylabel('Truth')"
   ]
  },
  {
   "cell_type": "code",
   "execution_count": 33,
   "metadata": {
    "colab": {
     "base_uri": "https://localhost:8080/"
    },
    "executionInfo": {
     "elapsed": 85,
     "status": "ok",
     "timestamp": 1682194116612,
     "user": {
      "displayName": "Nirmal Kumar",
      "userId": "02049434218915299882"
     },
     "user_tz": 300
    },
    "id": "0dZ8vu1MzlFO",
    "outputId": "17a9e442-6ed5-46f3-e306-54e5dfcf59c1"
   },
   "outputs": [
    {
     "name": "stdout",
     "output_type": "stream",
     "text": [
      "[115, 241, 247, 321, 340, 381, 445, 495, 582, 583, 619, 684, 691, 720, 740, 760, 877, 882, 900, 938, 947, 951, 956, 1014, 1039, 1044, 1112, 1156, 1182, 1194, 1226, 1232, 1247, 1260, 1289, 1319, 1364, 1393, 1414, 1494, 1500, 1522, 1527, 1530, 1549, 1609, 1621, 1641, 1681, 1732, 1751, 1754, 1868, 1901, 1941, 2004, 2035, 2053, 2098, 2109, 2118, 2125, 2130, 2135, 2162, 2266, 2293, 2369, 2387, 2406, 2433, 2488, 2582, 2597, 2598, 2607, 2648, 2654, 2810, 2921, 2939, 2953, 2979, 3005, 3030, 3060, 3073, 3117, 3289, 3330, 3405, 3422, 3475, 3490, 3503, 3520, 3533, 3549, 3558, 3597, 3727, 3751, 3776, 3780, 3796, 3808, 3811, 3853, 3893, 3941, 3985, 4000, 4027, 4065, 4075, 4140, 4176, 4199, 4211, 4224, 4248, 4271, 4344, 4360, 4497, 4500, 4536, 4571, 4740, 4807, 4823, 4860, 4876, 4880, 4956, 4966, 5331, 5457, 5586, 5600, 5642, 5676, 5734, 5749, 5887, 5937, 5955, 5973, 6011, 6059, 6166, 6421, 6555, 6560, 6571, 6572, 6597, 6641, 6651, 6755, 6783, 7216, 7259, 7459, 7481, 8059, 8094, 8246, 8325, 8408, 8522, 8527, 9009, 9015, 9024, 9280, 9587, 9634, 9664, 9669, 9679, 9719, 9729, 9742, 9745, 9768, 9770, 9779, 9792, 9808, 9839, 9858, 9891, 9904]\n",
      "194\n"
     ]
    }
   ],
   "source": [
    "index = 0\n",
    "misclassified_images = []\n",
    "for label, predict in zip(y_test, y_pred_final_1):\n",
    "    if label != predict: \n",
    "        misclassified_images.append(index)\n",
    "    index +=1\n",
    "print(misclassified_images)\n",
    "print(len(misclassified_images))"
   ]
  },
  {
   "cell_type": "code",
   "execution_count": 34,
   "metadata": {
    "colab": {
     "base_uri": "https://localhost:8080/",
     "height": 519
    },
    "executionInfo": {
     "elapsed": 371,
     "status": "ok",
     "timestamp": 1682194120280,
     "user": {
      "displayName": "Nirmal Kumar",
      "userId": "02049434218915299882"
     },
     "user_tz": 300
    },
    "id": "RQXa4gEqh4yW",
    "outputId": "5d585c88-4ee8-42e2-d41c-dc5d7270717a"
   },
   "outputs": [
    {
     "name": "stdout",
     "output_type": "stream",
     "text": [
      "1/1 [==============================] - 0s 15ms/step\n",
      "Was predicted  9\n",
      "Was labeled  4\n",
      "Predicted Probabilities:  [[7.9871604e-04 9.5482136e-04 1.1292113e-03 8.0609857e-04 4.0806185e-02\n",
      "  2.9086878e-03 2.8689778e-03 6.9962931e-04 1.6972051e-03 9.4733042e-01]]\n"
     ]
    },
    {
     "data": {
      "image/png": "[encoded data removed]",
      "text/plain": [
       "<Figure size 640x480 with 1 Axes>"
      ]
     },
     "metadata": {},
     "output_type": "display_data"
    }
   ],
   "source": [
    "image_index = 115\n",
    "plt.imshow(x_test[image_index].reshape(28, 28),cmap='Greys')\n",
    "pred = model_1.predict(x_test[image_index].reshape(-1, 784))\n",
    "print(\"Was predicted \",pred.argmax())\n",
    "print(\"Was labeled \",y_test[image_index])\n",
    "print(\"Predicted Probabilities: \",pred)"
   ]
  },
  {
   "cell_type": "code",
   "execution_count": 35,
   "metadata": {
    "colab": {
     "base_uri": "https://localhost:8080/",
     "height": 472
    },
    "executionInfo": {
     "elapsed": 1788,
     "status": "ok",
     "timestamp": 1682194123671,
     "user": {
      "displayName": "Nirmal Kumar",
      "userId": "02049434218915299882"
     },
     "user_tz": 300
    },
    "id": "aVgkHx4AzK9X",
    "outputId": "3193eacb-3dc9-4bf0-8806-9c96609b6d62"
   },
   "outputs": [
    {
     "data": {
      "image/png": "[encoded data removed]",
      "text/plain": [
       "<Figure size 640x480 with 1 Axes>"
      ]
     },
     "metadata": {},
     "output_type": "display_data"
    }
   ],
   "source": [
    "loss, accuracy  = model_1.evaluate(x_test, y_test_cat, verbose=False)\n",
    "    \n",
    "plt.plot(history.history['accuracy'])\n",
    "plt.plot(history.history['val_accuracy'])\n",
    "plt.title('model accuracy')\n",
    "plt.ylabel('accuracy')\n",
    "plt.xlabel('epoch')\n",
    "plt.legend(['training', 'validation'], loc='best')\n",
    "plt.show()"
   ]
  },
  {
   "cell_type": "markdown",
   "metadata": {
    "id": "7rojee-LwAjq"
   },
   "source": [
    "# Summary\n",
    "\n",
    "1. We can observe from our both models that model with batch normalization and dropout is performing similar in terms of misclassifications.\n",
    "2. However, the accuracy curve for train and validation shows that our model with dropout and batch normalization is much less an overfit.\n",
    "3. Thus we achieve higher accuracy score of 97% to 98%."
   ]
  }
 ],
 "metadata": {
  "accelerator": "TPU",
  "colab": {
   "provenance": []
  },
  "kernelspec": {
   "display_name": "Python 3 (ipykernel)",
   "language": "python",
   "name": "python3"
  },
  "language_info": {
   "codemirror_mode": {
    "name": "ipython",
    "version": 3
   },
   "file_extension": ".py",
   "mimetype": "text/x-python",
   "name": "python",
   "nbconvert_exporter": "python",
   "pygments_lexer": "ipython3",
   "version": "3.9.12"
  }
 },
 "nbformat": 4,
 "nbformat_minor": 1
}
